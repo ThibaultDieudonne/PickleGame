{
 "cells": [
  {
   "cell_type": "code",
   "execution_count": null,
   "id": "4fc76017",
   "metadata": {},
   "outputs": [
    {
     "name": "stdout",
     "output_type": "stream",
     "text": [
      "Server started!\n",
      "Waiting for clients...\n",
      "Got connection from ('127.0.0.1', 27666)\n",
      "('127.0.0.1', 27666)  >>  b'hey'\n",
      "SERVER >> yo\n"
     ]
    },
    {
     "name": "stderr",
     "output_type": "stream",
     "text": [
      "Exception in thread Thread-6:\n",
      "Traceback (most recent call last):\n",
      "  File \"C:\\Users\\Annie\\anaconda3\\lib\\threading.py\", line 932, in _bootstrap_inner\n",
      "    self.run()\n",
      "  File \"C:\\Users\\Annie\\anaconda3\\lib\\threading.py\", line 870, in run\n",
      "    self._target(*self._args, **self._kwargs)\n",
      "  File \"<ipython-input-1-04118aedb69a>\", line 12, in on_new_client\n",
      "TypeError: a bytes-like object is required, not 'str'\n"
     ]
    }
   ],
   "source": [
    "import socket               # Import socket module\n",
    "from threading import Thread\n",
    "\n",
    "def on_new_client(clientsocket,addr):\n",
    "    print ('Got connection from', addr)\n",
    "    while True:\n",
    "        msg = clientsocket.recv(1024)\n",
    "        #do some checks and if msg == someWeirdSignal: break:\n",
    "        print (addr, ' >> ', msg)\n",
    "        msg = input('SERVER >> ')\n",
    "        #Maybe some code to compute the last digit of PI, play game or anything else can go here and when you are done.\n",
    "        clientsocket.send(bytes(msg, 'utf-8'))\n",
    "    clientsocket.close()\n",
    "\n",
    "s = socket.socket()         # Create a socket object\n",
    "# host = socket.gethostname() # Get local machine name\n",
    "\n",
    "host = \"0.0.0.0\"\n",
    "port = 50000                # Reserve a port for your service.\n",
    "\n",
    "print ('Server started!')\n",
    "print ('Waiting for clients...')\n",
    "\n",
    "s.bind((host, port))        # Bind to the port\n",
    "s.listen(5)                 # Now wait for client connection.\n",
    "\n",
    "connections = []\n",
    "\n",
    "while True:\n",
    "    c, addr = s.accept()     # Establish connection with client.\n",
    "    connections.append(Thread(target=on_new_client, args=(c,addr)))\n",
    "    connections[-1].start()\n",
    "s.close()"
   ]
  },
  {
   "cell_type": "code",
   "execution_count": null,
   "id": "be74fd59",
   "metadata": {},
   "outputs": [],
   "source": []
  }
 ],
 "metadata": {
  "kernelspec": {
   "display_name": "Python 3",
   "language": "python",
   "name": "python3"
  },
  "language_info": {
   "codemirror_mode": {
    "name": "ipython",
    "version": 3
   },
   "file_extension": ".py",
   "mimetype": "text/x-python",
   "name": "python",
   "nbconvert_exporter": "python",
   "pygments_lexer": "ipython3",
   "version": "3.8.8"
  }
 },
 "nbformat": 4,
 "nbformat_minor": 5
}
